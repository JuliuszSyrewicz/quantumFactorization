{
 "cells": [
  {
   "cell_type": "code",
   "execution_count": 1,
   "metadata": {
    "collapsed": true
   },
   "outputs": [],
   "source": [
    "import main, json, importlib, time\n",
    "import numpy as np\n",
    "np.set_printoptions(suppress = True)\n",
    "import qiskit as qk\n",
    "from qiskit import Aer\n",
    "from qiskit.tools.visualization import plot_histogram\n",
    "import matplotlib.pyplot as plt\n",
    "from qiskit.visualization import plot_state_city, plot_bloch_multivector\n",
    "from qiskit.visualization import plot_state_paulivec, plot_state_hinton\n",
    "from qiskit.visualization import plot_state_qsphere\n",
    "from qiskit_aer import AerSimulator\n",
    "from qiskit_aer.noise import NoiseModel, depolarizing_error\n"
   ]
  },
  {
   "cell_type": "code",
   "execution_count": 2,
   "outputs": [],
   "source": [
    "def CRnU(circuit, control, target, ancilla):\n",
    "    #match shape to the one from the paper\n",
    "    # circuit.swap(control, target)\n",
    "\n",
    "    circuit.cnot(ancilla, target)\n",
    "    circuit.cnot(control, target)\n",
    "    circuit.h(ancilla)\n",
    "    circuit.t(control)\n",
    "    circuit.tdg(target)\n",
    "    circuit.t(ancilla)\n",
    "    circuit.cnot(ancilla, target)\n",
    "    circuit.cnot(control, ancilla)\n",
    "    circuit.t(target)\n",
    "    circuit.cnot(control, target)\n",
    "    circuit.tdg(ancilla)\n",
    "    circuit.tdg(target)\n",
    "    circuit.cnot(control, ancilla)\n",
    "    circuit.cnot(ancilla, target)\n",
    "    circuit.t(target)\n",
    "    circuit.h(ancilla)\n",
    "    circuit.cnot(ancilla, target)\n",
    "\n",
    "    #swap back\n",
    "    # circuit.swap(control, target)\n",
    "\n",
    "def ZeroAncCRn(circuit, control, target, theta):\n",
    "    # not working so far\n",
    "    circuit.p(2*theta, control)\n",
    "    circuit.p(2*theta, target)\n",
    "    circuit.cnot(control, target)\n",
    "    circuit.p(-2*theta, target)\n",
    "    circuit.cnot(control, target)"
   ],
   "metadata": {
    "collapsed": false
   }
  },
  {
   "cell_type": "code",
   "execution_count": 3,
   "outputs": [],
   "source": [
    "def CRnGate(circuit, control, target, ancilla, theta):\n",
    "    CRnU(circuit, control, target, ancilla)\n",
    "    circuit.p(theta, ancilla)\n",
    "    CRnU(circuit, control, target, ancilla)"
   ],
   "metadata": {
    "collapsed": false
   }
  },
  {
   "cell_type": "code",
   "execution_count": null,
   "outputs": [],
   "source": [],
   "metadata": {
    "collapsed": false
   }
  }
 ],
 "metadata": {
  "kernelspec": {
   "display_name": "Python 3",
   "language": "python",
   "name": "python3"
  },
  "language_info": {
   "codemirror_mode": {
    "name": "ipython",
    "version": 2
   },
   "file_extension": ".py",
   "mimetype": "text/x-python",
   "name": "python",
   "nbconvert_exporter": "python",
   "pygments_lexer": "ipython2",
   "version": "2.7.6"
  }
 },
 "nbformat": 4,
 "nbformat_minor": 0
}
